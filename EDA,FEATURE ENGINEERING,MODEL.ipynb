{
 "cells": [
  {
   "cell_type": "code",
   "execution_count": 1,
   "metadata": {},
   "outputs": [],
   "source": [
    "#Linear Algebra\n",
    "import numpy as np\n",
    "#Data preprocessing\n",
    "import pandas as pd\n",
    "#setting display options\n",
    "pd.set_option('display.max_rows', 80)\n",
    "pd.set_option('display.max_columns', 80)\n",
    "pd.set_option('max_colwidth', 300)\n",
    "np.set_printoptions(linewidth =400)\n",
    "#Matlab-style plotting\n",
    "from matplotlib import pyplot as plt\n",
    "%matplotlib inline\n",
    "#Advance-style plotting\n",
    "import seaborn as sns\n",
    "color =sns.color_palette()\n",
    "sns.set_style('darkgrid')\n",
    "#Ignore annoying warning from sklearn and seaborn\n",
    "import warnings\n",
    "def ignore_warn(*args, **kwargs):\n",
    "    pass\n",
    "warnings.warn = ignore_warn"
   ]
  },
  {
   "cell_type": "code",
   "execution_count": 2,
   "metadata": {},
   "outputs": [],
   "source": [
    "train = pd.read_excel(r'C:\\Users\\ABOFFICIAL\\Desktop\\Predicting-Food-Delivery-Time-master\\Predicting-Food-Delivery-Time-master\\processedtrain.xlsx', encoding='utf-8')\n",
    "test =pd.read_excel(r'C:\\Users\\ABOFFICIAL\\Desktop\\Predicting-Food-Delivery-Time-master\\Predicting-Food-Delivery-Time-master\\processedtest.xlsx', encoding='utf-8')"
   ]
  },
  {
   "cell_type": "code",
   "execution_count": 3,
   "metadata": {},
   "outputs": [
    {
     "data": {
      "text/html": [
       "<div>\n",
       "<style scoped>\n",
       "    .dataframe tbody tr th:only-of-type {\n",
       "        vertical-align: middle;\n",
       "    }\n",
       "\n",
       "    .dataframe tbody tr th {\n",
       "        vertical-align: top;\n",
       "    }\n",
       "\n",
       "    .dataframe thead th {\n",
       "        text-align: right;\n",
       "    }\n",
       "</style>\n",
       "<table border=\"1\" class=\"dataframe\">\n",
       "  <thead>\n",
       "    <tr style=\"text-align: right;\">\n",
       "      <th></th>\n",
       "      <th>Restaurant</th>\n",
       "      <th>Location</th>\n",
       "      <th>Cuisines</th>\n",
       "      <th>Average_Cost</th>\n",
       "      <th>Minimum_Order</th>\n",
       "      <th>Rating</th>\n",
       "      <th>Votes</th>\n",
       "      <th>Reviews</th>\n",
       "      <th>Delivery_Time</th>\n",
       "    </tr>\n",
       "  </thead>\n",
       "  <tbody>\n",
       "    <tr>\n",
       "      <th>0</th>\n",
       "      <td>ID_6321</td>\n",
       "      <td>FTI College, Law College Road, Pune</td>\n",
       "      <td>Fast Food, Rolls, Burger, Salad, Wraps</td>\n",
       "      <td>200</td>\n",
       "      <td>50</td>\n",
       "      <td>3.5</td>\n",
       "      <td>12</td>\n",
       "      <td>4</td>\n",
       "      <td>30</td>\n",
       "    </tr>\n",
       "    <tr>\n",
       "      <th>1</th>\n",
       "      <td>ID_2882</td>\n",
       "      <td>Sector 3, Marathalli</td>\n",
       "      <td>Ice Cream, Desserts</td>\n",
       "      <td>100</td>\n",
       "      <td>50</td>\n",
       "      <td>3.5</td>\n",
       "      <td>11</td>\n",
       "      <td>4</td>\n",
       "      <td>30</td>\n",
       "    </tr>\n",
       "    <tr>\n",
       "      <th>2</th>\n",
       "      <td>ID_1595</td>\n",
       "      <td>Mumbai Central</td>\n",
       "      <td>Italian, Street Food, Fast Food</td>\n",
       "      <td>150</td>\n",
       "      <td>50</td>\n",
       "      <td>3.6</td>\n",
       "      <td>99</td>\n",
       "      <td>30</td>\n",
       "      <td>65</td>\n",
       "    </tr>\n",
       "    <tr>\n",
       "      <th>3</th>\n",
       "      <td>ID_5929</td>\n",
       "      <td>Sector 1, Noida</td>\n",
       "      <td>Mughlai, North Indian, Chinese</td>\n",
       "      <td>250</td>\n",
       "      <td>99</td>\n",
       "      <td>3.7</td>\n",
       "      <td>176</td>\n",
       "      <td>95</td>\n",
       "      <td>30</td>\n",
       "    </tr>\n",
       "    <tr>\n",
       "      <th>4</th>\n",
       "      <td>ID_6123</td>\n",
       "      <td>Rmz Centennial, I Gate, Whitefield</td>\n",
       "      <td>Cafe, Beverages</td>\n",
       "      <td>200</td>\n",
       "      <td>99</td>\n",
       "      <td>3.2</td>\n",
       "      <td>521</td>\n",
       "      <td>235</td>\n",
       "      <td>65</td>\n",
       "    </tr>\n",
       "  </tbody>\n",
       "</table>\n",
       "</div>"
      ],
      "text/plain": [
       "  Restaurant                             Location  \\\n",
       "0    ID_6321  FTI College, Law College Road, Pune   \n",
       "1    ID_2882                 Sector 3, Marathalli   \n",
       "2    ID_1595                       Mumbai Central   \n",
       "3    ID_5929                      Sector 1, Noida   \n",
       "4    ID_6123   Rmz Centennial, I Gate, Whitefield   \n",
       "\n",
       "                                 Cuisines  Average_Cost  Minimum_Order  \\\n",
       "0  Fast Food, Rolls, Burger, Salad, Wraps           200             50   \n",
       "1                     Ice Cream, Desserts           100             50   \n",
       "2         Italian, Street Food, Fast Food           150             50   \n",
       "3          Mughlai, North Indian, Chinese           250             99   \n",
       "4                         Cafe, Beverages           200             99   \n",
       "\n",
       "   Rating  Votes  Reviews  Delivery_Time  \n",
       "0     3.5     12        4             30  \n",
       "1     3.5     11        4             30  \n",
       "2     3.6     99       30             65  \n",
       "3     3.7    176       95             30  \n",
       "4     3.2    521      235             65  "
      ]
     },
     "execution_count": 3,
     "metadata": {},
     "output_type": "execute_result"
    }
   ],
   "source": [
    "train.head()"
   ]
  },
  {
   "cell_type": "code",
   "execution_count": 4,
   "metadata": {},
   "outputs": [
    {
     "data": {
      "text/plain": [
       "-1.0    1962\n",
       " 3.7     869\n",
       " 3.6     846\n",
       " 3.5     818\n",
       " 3.8     800\n",
       " 3.9     749\n",
       " 3.4     718\n",
       " 3.3     675\n",
       " 4.0     614\n",
       " 3.2     511\n",
       " 4.1     459\n",
       " 3.1     411\n",
       " 3.0     302\n",
       " 4.2     272\n",
       " 4.3     247\n",
       " 2.9     199\n",
       " 2.8     157\n",
       " 4.4     142\n",
       " 4.5      78\n",
       " 2.7      76\n",
       " 2.6      42\n",
       " 4.6      41\n",
       " 4.7      36\n",
       " 2.5      27\n",
       " 4.8      13\n",
       " 2.4      13\n",
       " 4.9       8\n",
       " 2.3       6\n",
       " 2.1       1\n",
       " 2.2       1\n",
       "Name: Rating, dtype: int64"
      ]
     },
     "execution_count": 4,
     "metadata": {},
     "output_type": "execute_result"
    }
   ],
   "source": [
    "train['Rating'].value_counts()"
   ]
  },
  {
   "cell_type": "code",
   "execution_count": 5,
   "metadata": {},
   "outputs": [
    {
     "data": {
      "text/plain": [
       "-1.0    507\n",
       " 3.6    223\n",
       " 3.9    216\n",
       " 3.7    212\n",
       " 3.5    197\n",
       " 3.4    185\n",
       " 3.8    183\n",
       " 3.3    153\n",
       " 4.0    141\n",
       " 3.2    129\n",
       " 3.1    120\n",
       " 4.1    115\n",
       " 4.2     70\n",
       " 3.0     65\n",
       " 2.9     57\n",
       " 4.3     52\n",
       " 2.8     41\n",
       " 4.4     29\n",
       " 2.7     22\n",
       " 4.5     18\n",
       " 2.6      9\n",
       " 4.6      7\n",
       " 4.7      6\n",
       " 2.5      6\n",
       " 2.4      5\n",
       " 4.8      3\n",
       " 2.3      2\n",
       " 2.1      1\n",
       "Name: Rating, dtype: int64"
      ]
     },
     "execution_count": 5,
     "metadata": {},
     "output_type": "execute_result"
    }
   ],
   "source": [
    "test['Rating'].value_counts()"
   ]
  },
  {
   "cell_type": "code",
   "execution_count": 6,
   "metadata": {},
   "outputs": [
    {
     "data": {
      "text/plain": [
       "Restaurant        object\n",
       "Location          object\n",
       "Cuisines          object\n",
       "Average_Cost       int64\n",
       "Minimum_Order      int64\n",
       "Rating           float64\n",
       "Votes              int64\n",
       "Reviews            int64\n",
       "Delivery_Time      int64\n",
       "dtype: object"
      ]
     },
     "execution_count": 6,
     "metadata": {},
     "output_type": "execute_result"
    }
   ],
   "source": [
    "train.dtypes"
   ]
  },
  {
   "cell_type": "code",
   "execution_count": 7,
   "metadata": {},
   "outputs": [],
   "source": [
    "train['Reviews_freq'] = train['Reviews'].map(train['Reviews'].value_counts().to_dict())\n",
    "test['Reviews_freq'] = test['Reviews'].map(test['Reviews'].value_counts().to_dict())"
   ]
  },
  {
   "cell_type": "code",
   "execution_count": 8,
   "metadata": {},
   "outputs": [],
   "source": [
    "train['Votes_freq'] = train['Votes'].map(train['Votes'].value_counts().to_dict())\n",
    "test['Votes_freq'] = test['Votes'].map(test['Votes'].value_counts().to_dict())"
   ]
  },
  {
   "cell_type": "code",
   "execution_count": 9,
   "metadata": {},
   "outputs": [],
   "source": [
    "train['Rating_freq'] = train['Rating'].map(train['Rating'].value_counts().to_dict())\n",
    "test['Rating_freq'] = test['Rating'].map(test['Rating'].value_counts().to_dict())"
   ]
  },
  {
   "cell_type": "code",
   "execution_count": 10,
   "metadata": {},
   "outputs": [],
   "source": [
    "train['Restaurant_count'] = train['Restaurant'].map(train['Restaurant'].value_counts().to_dict())\n",
    "test['Restaurant_count'] = test['Restaurant'].map(test['Restaurant'].value_counts().to_dict())"
   ]
  },
  {
   "cell_type": "code",
   "execution_count": 11,
   "metadata": {},
   "outputs": [],
   "source": [
    "train['min_order_freq'] = train['Minimum_Order'].map(train['Minimum_Order'].value_counts().to_dict())\n",
    "test['min_order_freq'] = test['Minimum_Order'].map(test['Minimum_Order'].value_counts().to_dict())"
   ]
  },
  {
   "cell_type": "code",
   "execution_count": 12,
   "metadata": {},
   "outputs": [],
   "source": [
    "train['avg_cost_freq'] = train['Average_Cost'].map(train['Average_Cost'].value_counts().to_dict())\n",
    "test['avg_cost_freq'] = test['Average_Cost'].map(test['Average_Cost'].value_counts().to_dict())"
   ]
  },
  {
   "cell_type": "code",
   "execution_count": 13,
   "metadata": {},
   "outputs": [],
   "source": [
    "train['Cuisines_freq'] = train['Cuisines'].map(train['Cuisines'].value_counts().to_dict())\n",
    "test['Cuisines_freq'] = test['Cuisines'].map(test['Cuisines'].value_counts().to_dict())"
   ]
  },
  {
   "cell_type": "code",
   "execution_count": 14,
   "metadata": {},
   "outputs": [
    {
     "data": {
      "text/plain": [
       "<matplotlib.axes._subplots.AxesSubplot at 0x1fc73994710>"
      ]
     },
     "execution_count": 14,
     "metadata": {},
     "output_type": "execute_result"
    },
    {
     "data": {
      "image/png": "[encoded data removed]",
      "text/plain": [
       "<Figure size 432x288 with 1 Axes>"
      ]
     },
     "metadata": {
      "needs_background": "light"
     },
     "output_type": "display_data"
    }
   ],
   "source": [
    "train['Rating'].hist(bins=20)"
   ]
  },
  {
   "cell_type": "code",
   "execution_count": 15,
   "metadata": {},
   "outputs": [
    {
     "data": {
      "text/plain": [
       "<matplotlib.axes._subplots.AxesSubplot at 0x1fc733ece80>"
      ]
     },
     "execution_count": 15,
     "metadata": {},
     "output_type": "execute_result"
    },
    {
     "data": {
      "image/png": "[encoded data removed]",
      "text/plain": [
       "<Figure size 432x288 with 1 Axes>"
      ]
     },
     "metadata": {
      "needs_background": "light"
     },
     "output_type": "display_data"
    }
   ],
   "source": [
    "test['Rating'].hist(bins=20)"
   ]
  },
  {
   "cell_type": "code",
   "execution_count": 16,
   "metadata": {},
   "outputs": [
    {
     "data": {
      "text/html": [
       "<div>\n",
       "<style scoped>\n",
       "    .dataframe tbody tr th:only-of-type {\n",
       "        vertical-align: middle;\n",
       "    }\n",
       "\n",
       "    .dataframe tbody tr th {\n",
       "        vertical-align: top;\n",
       "    }\n",
       "\n",
       "    .dataframe thead th {\n",
       "        text-align: right;\n",
       "    }\n",
       "</style>\n",
       "<table border=\"1\" class=\"dataframe\">\n",
       "  <thead>\n",
       "    <tr style=\"text-align: right;\">\n",
       "      <th></th>\n",
       "      <th>Restaurant</th>\n",
       "      <th>Location</th>\n",
       "      <th>Cuisines</th>\n",
       "      <th>Average_Cost</th>\n",
       "      <th>Minimum_Order</th>\n",
       "      <th>Rating</th>\n",
       "      <th>Votes</th>\n",
       "      <th>Reviews</th>\n",
       "      <th>Delivery_Time</th>\n",
       "      <th>Reviews_freq</th>\n",
       "      <th>Votes_freq</th>\n",
       "      <th>Rating_freq</th>\n",
       "      <th>Restaurant_count</th>\n",
       "      <th>min_order_freq</th>\n",
       "      <th>avg_cost_freq</th>\n",
       "      <th>Cuisines_freq</th>\n",
       "    </tr>\n",
       "  </thead>\n",
       "  <tbody>\n",
       "    <tr>\n",
       "      <th>0</th>\n",
       "      <td>ID_6321</td>\n",
       "      <td>FTI College, Law College Road, Pune</td>\n",
       "      <td>Fast Food, Rolls, Burger, Salad, Wraps</td>\n",
       "      <td>200</td>\n",
       "      <td>50</td>\n",
       "      <td>3.5</td>\n",
       "      <td>12</td>\n",
       "      <td>4</td>\n",
       "      <td>30</td>\n",
       "      <td>356</td>\n",
       "      <td>150</td>\n",
       "      <td>818</td>\n",
       "      <td>1</td>\n",
       "      <td>10117</td>\n",
       "      <td>3241</td>\n",
       "      <td>1</td>\n",
       "    </tr>\n",
       "    <tr>\n",
       "      <th>1</th>\n",
       "      <td>ID_2882</td>\n",
       "      <td>Sector 3, Marathalli</td>\n",
       "      <td>Ice Cream, Desserts</td>\n",
       "      <td>100</td>\n",
       "      <td>50</td>\n",
       "      <td>3.5</td>\n",
       "      <td>11</td>\n",
       "      <td>4</td>\n",
       "      <td>30</td>\n",
       "      <td>356</td>\n",
       "      <td>153</td>\n",
       "      <td>818</td>\n",
       "      <td>5</td>\n",
       "      <td>10117</td>\n",
       "      <td>2557</td>\n",
       "      <td>61</td>\n",
       "    </tr>\n",
       "    <tr>\n",
       "      <th>2</th>\n",
       "      <td>ID_1595</td>\n",
       "      <td>Mumbai Central</td>\n",
       "      <td>Italian, Street Food, Fast Food</td>\n",
       "      <td>150</td>\n",
       "      <td>50</td>\n",
       "      <td>3.6</td>\n",
       "      <td>99</td>\n",
       "      <td>30</td>\n",
       "      <td>65</td>\n",
       "      <td>89</td>\n",
       "      <td>19</td>\n",
       "      <td>846</td>\n",
       "      <td>2</td>\n",
       "      <td>10117</td>\n",
       "      <td>2462</td>\n",
       "      <td>3</td>\n",
       "    </tr>\n",
       "    <tr>\n",
       "      <th>3</th>\n",
       "      <td>ID_5929</td>\n",
       "      <td>Sector 1, Noida</td>\n",
       "      <td>Mughlai, North Indian, Chinese</td>\n",
       "      <td>250</td>\n",
       "      <td>99</td>\n",
       "      <td>3.7</td>\n",
       "      <td>176</td>\n",
       "      <td>95</td>\n",
       "      <td>30</td>\n",
       "      <td>13</td>\n",
       "      <td>9</td>\n",
       "      <td>869</td>\n",
       "      <td>2</td>\n",
       "      <td>779</td>\n",
       "      <td>881</td>\n",
       "      <td>16</td>\n",
       "    </tr>\n",
       "    <tr>\n",
       "      <th>4</th>\n",
       "      <td>ID_6123</td>\n",
       "      <td>Rmz Centennial, I Gate, Whitefield</td>\n",
       "      <td>Cafe, Beverages</td>\n",
       "      <td>200</td>\n",
       "      <td>99</td>\n",
       "      <td>3.2</td>\n",
       "      <td>521</td>\n",
       "      <td>235</td>\n",
       "      <td>65</td>\n",
       "      <td>10</td>\n",
       "      <td>2</td>\n",
       "      <td>511</td>\n",
       "      <td>1</td>\n",
       "      <td>779</td>\n",
       "      <td>3241</td>\n",
       "      <td>14</td>\n",
       "    </tr>\n",
       "  </tbody>\n",
       "</table>\n",
       "</div>"
      ],
      "text/plain": [
       "  Restaurant                             Location  \\\n",
       "0    ID_6321  FTI College, Law College Road, Pune   \n",
       "1    ID_2882                 Sector 3, Marathalli   \n",
       "2    ID_1595                       Mumbai Central   \n",
       "3    ID_5929                      Sector 1, Noida   \n",
       "4    ID_6123   Rmz Centennial, I Gate, Whitefield   \n",
       "\n",
       "                                 Cuisines  Average_Cost  Minimum_Order  \\\n",
       "0  Fast Food, Rolls, Burger, Salad, Wraps           200             50   \n",
       "1                     Ice Cream, Desserts           100             50   \n",
       "2         Italian, Street Food, Fast Food           150             50   \n",
       "3          Mughlai, North Indian, Chinese           250             99   \n",
       "4                         Cafe, Beverages           200             99   \n",
       "\n",
       "   Rating  Votes  Reviews  Delivery_Time  Reviews_freq  Votes_freq  \\\n",
       "0     3.5     12        4             30           356         150   \n",
       "1     3.5     11        4             30           356         153   \n",
       "2     3.6     99       30             65            89          19   \n",
       "3     3.7    176       95             30            13           9   \n",
       "4     3.2    521      235             65            10           2   \n",
       "\n",
       "   Rating_freq  Restaurant_count  min_order_freq  avg_cost_freq  Cuisines_freq  \n",
       "0          818                 1           10117           3241              1  \n",
       "1          818                 5           10117           2557             61  \n",
       "2          846                 2           10117           2462              3  \n",
       "3          869                 2             779            881             16  \n",
       "4          511                 1             779           3241             14  "
      ]
     },
     "execution_count": 16,
     "metadata": {},
     "output_type": "execute_result"
    }
   ],
   "source": [
    "train.head()"
   ]
  },
  {
   "cell_type": "code",
   "execution_count": 17,
   "metadata": {},
   "outputs": [
    {
     "data": {
      "text/plain": [
       "North Indian                                                               850\n",
       "North Indian, Chinese                                                      614\n",
       "Fast Food                                                                  433\n",
       "South Indian                                                               270\n",
       "Chinese                                                                    245\n",
       "Street Food                                                                181\n",
       "Bakery, Desserts                                                           171\n",
       "Bakery                                                                     168\n",
       "North Indian, Mughlai                                                      155\n",
       "Pizza, Fast Food                                                           133\n",
       "Chinese, North Indian                                                      125\n",
       "Fast Food, Beverages                                                       114\n",
       "North Indian, Fast Food                                                    113\n",
       "North Indian, Chinese, Fast Food                                           104\n",
       "Biryani                                                                    103\n",
       "Desserts                                                                   100\n",
       "Biryani, North Indian                                                       89\n",
       "Desserts, Beverages                                                         89\n",
       "North Indian, Mughlai, Chinese                                              83\n",
       "North Indian, Chinese, Mughlai                                              78\n",
       "Mithai, Street Food                                                         73\n",
       "Bakery, Fast Food                                                           71\n",
       "Chinese, Fast Food                                                          68\n",
       "Beverages                                                                   68\n",
       "North Indian, South Indian, Chinese                                         67\n",
       "South Indian, North Indian, Chinese                                         66\n",
       "Burger, Fast Food                                                           63\n",
       "Ice Cream, Desserts                                                         61\n",
       "North Indian, Chinese, Biryani                                              58\n",
       "Rolls                                                                       57\n",
       "Fast Food, Chinese                                                          57\n",
       "Beverages, Fast Food                                                        53\n",
       "North Indian, South Indian                                                  53\n",
       "Ice Cream                                                                   52\n",
       "Cafe                                                                        52\n",
       "South Indian, Chinese                                                       49\n",
       "Pizza                                                                       47\n",
       "Mithai                                                                      46\n",
       "Bakery, Desserts, Fast Food                                                 46\n",
       "Healthy Food                                                                43\n",
       "                                                                          ... \n",
       "Biryani, Rolls                                                               1\n",
       "Pizza, Sandwich                                                              1\n",
       "North Indian, Chinese, Mughlai, Desserts                                     1\n",
       "North Indian, Healthy Food                                                   1\n",
       "Tibetan, Chinese, Italian                                                    1\n",
       "Biryani, South Indian, North Indian                                          1\n",
       "Healthy Food, North Indian, South Indian                                     1\n",
       "South Indian, Street Food, North Indian                                      1\n",
       "North Indian, Chinese, Pizza                                                 1\n",
       "North Indian, European, Asian, Kebab, Afghan                                 1\n",
       "Beverages, Juices, Desserts                                                  1\n",
       "Chinese, Tibetan, Thai                                                       1\n",
       "Cafe, Italian, Chinese, Continental, Beverages                               1\n",
       "Fast Food, Chinese, Italian                                                  1\n",
       "South Indian, Mithai, North Indian, Chinese, Fast Food                       1\n",
       "Cafe, Pizza, North Indian                                                    1\n",
       "Chinese, Thai, North Indian, Mughlai                                         1\n",
       "Continental, Italian                                                         1\n",
       "Maharashtrian, Chinese, North Indian                                         1\n",
       "Rolls, Kebab, North Indian                                                   1\n",
       "Kerala, South Indian, Biryani, Seafood                                       1\n",
       "North Indian, Chinese, Street Food, South Indian                             1\n",
       "Continental, Burger, Wraps, Beverages                                        1\n",
       "Asian, Continental, North Indian, Chinese, Salad, Healthy Food, Italian      1\n",
       "North Indian, Chinese, Mughlai, Rolls, Kebab                                 1\n",
       "Italian, Continental, Fast Food                                              1\n",
       "Pizza, Chinese, North Indian                                                 1\n",
       "Fast Food, Raw Meats                                                         1\n",
       "Mithai, Chinese                                                              1\n",
       "North Indian, Chinese, Italian, Rolls                                        1\n",
       "Healthy Food, Chinese, North Indian                                          1\n",
       "Asian, Continental, European                                                 1\n",
       "North Indian, Biryani, Chinese, Healthy Food                                 1\n",
       "South Indian, Chettinad, North Indian, Chinese, Mughlai                      1\n",
       "North Indian, South Indian, Chinese, Seafood                                 1\n",
       "Healthy Food, Salad, Fast Food                                               1\n",
       "Bengali, Seafood, Rolls                                                      1\n",
       "Fast Food, Tea                                                               1\n",
       "Beverages, Ice Cream, Sandwich                                               1\n",
       "South Indian, Fast Food, Chinese, Mexican, Juices                            1\n",
       "Name: Cuisines, Length: 2179, dtype: int64"
      ]
     },
     "execution_count": 17,
     "metadata": {},
     "output_type": "execute_result"
    }
   ],
   "source": [
    "train['Cuisines'].value_counts()"
   ]
  },
  {
   "cell_type": "code",
   "execution_count": 18,
   "metadata": {},
   "outputs": [
    {
     "data": {
      "text/plain": [
       "<matplotlib.axes._subplots.AxesSubplot at 0x1fc73911f60>"
      ]
     },
     "execution_count": 18,
     "metadata": {},
     "output_type": "execute_result"
    },
    {
     "data": {
      "image/png": "[encoded data removed]",
      "text/plain": [
       "<Figure size 1440x720 with 2 Axes>"
      ]
     },
     "metadata": {
      "needs_background": "light"
     },
     "output_type": "display_data"
    }
   ],
   "source": [
    "#correlelogram- plot heatmap to find correlation among features\n",
    "corrmat =train.corr()\n",
    "f, ax = plt.subplots(figsize=(20,10))\n",
    "sns.heatmap(corrmat, square=True, annot=True,linewidth=0.8, cmap='RdBu')"
   ]
  },
  {
   "cell_type": "code",
   "execution_count": 19,
   "metadata": {},
   "outputs": [
    {
     "name": "stderr",
     "output_type": "stream",
     "text": [
      "C:\\Users\\ABOFFICIAL\\Anaconda3\\lib\\site-packages\\scipy\\stats\\stats.py:1713: FutureWarning: Using a non-tuple sequence for multidimensional indexing is deprecated; use `arr[tuple(seq)]` instead of `arr[seq]`. In the future this will be interpreted as an array index, `arr[np.array(seq)]`, which will result either in an error or a different result.\n",
      "  return np.add.reduce(sorted[indexer] * weights, axis=axis) / sumval\n"
     ]
    },
    {
     "data": {
      "text/plain": [
       "<matplotlib.axes._subplots.AxesSubplot at 0x1fc733fd208>"
      ]
     },
     "execution_count": 19,
     "metadata": {},
     "output_type": "execute_result"
    },
    {
     "data": {
      "image/png": "[encoded data removed]",
      "text/plain": [
       "<Figure size 1008x576 with 1 Axes>"
      ]
     },
     "metadata": {
      "needs_background": "light"
     },
     "output_type": "display_data"
    }
   ],
   "source": [
    "plt.figure(figsize=[14,8])\n",
    "sns.barplot('Rating', 'Delivery_Time', data =train)"
   ]
  },
  {
   "cell_type": "code",
   "execution_count": 20,
   "metadata": {},
   "outputs": [
    {
     "data": {
      "text/plain": [
       "Index(['Restaurant', 'Location', 'Cuisines', 'Average_Cost', 'Minimum_Order',\n",
       "       'Rating', 'Votes', 'Reviews', 'Delivery_Time', 'Reviews_freq',\n",
       "       'Votes_freq', 'Rating_freq', 'Restaurant_count', 'min_order_freq',\n",
       "       'avg_cost_freq', 'Cuisines_freq'],\n",
       "      dtype='object')"
      ]
     },
     "execution_count": 20,
     "metadata": {},
     "output_type": "execute_result"
    }
   ],
   "source": [
    "train.columns"
   ]
  },
  {
   "cell_type": "code",
   "execution_count": 21,
   "metadata": {},
   "outputs": [],
   "source": [
    "train = train.drop(['Restaurant','Location','Cuisines','Reviews_freq', 'Votes_freq', 'Rating_freq'], axis=1)\n",
    "test = test.drop(['Restaurant','Location','Cuisines','Reviews_freq', 'Votes_freq', 'Rating_freq'], axis=1)"
   ]
  },
  {
   "cell_type": "code",
   "execution_count": 22,
   "metadata": {},
   "outputs": [
    {
     "data": {
      "text/plain": [
       "Average_Cost          int64\n",
       "Minimum_Order         int64\n",
       "Rating              float64\n",
       "Votes                 int64\n",
       "Reviews               int64\n",
       "Delivery_Time         int64\n",
       "Restaurant_count      int64\n",
       "min_order_freq        int64\n",
       "avg_cost_freq         int64\n",
       "Cuisines_freq         int64\n",
       "dtype: object"
      ]
     },
     "execution_count": 22,
     "metadata": {},
     "output_type": "execute_result"
    }
   ],
   "source": [
    "train.dtypes"
   ]
  },
  {
   "cell_type": "code",
   "execution_count": 29,
   "metadata": {},
   "outputs": [],
   "source": [
    "X = train.drop('Delivery_Time', axis=1)\n",
    "y = train.Delivery_Time"
   ]
  },
  {
   "cell_type": "code",
   "execution_count": 30,
   "metadata": {},
   "outputs": [],
   "source": [
    "from sklearn.metrics import roc_auc_score, classification_report, confusion_matrix, accuracy_score, f1_score\n",
    "from sklearn.model_selection import StratifiedKFold, KFold, train_test_split"
   ]
  },
  {
   "cell_type": "code",
   "execution_count": 31,
   "metadata": {},
   "outputs": [],
   "source": [
    "# Split the data into 30% validation and 70% training\n",
    "X_train, X_test, y_train, y_test = train_test_split(X, y, test_size=0.15, random_state=42)"
   ]
  },
  {
   "cell_type": "code",
   "execution_count": 32,
   "metadata": {},
   "outputs": [
    {
     "data": {
      "text/plain": [
       "GradientBoostingRegressor(alpha=0.9, criterion='friedman_mse', init=None,\n",
       "             learning_rate=0.1, loss='huber', max_depth=4,\n",
       "             max_features=None, max_leaf_nodes=None,\n",
       "             min_impurity_decrease=0.0, min_impurity_split=None,\n",
       "             min_samples_leaf=1, min_samples_split=2,\n",
       "             min_weight_fraction_leaf=0.0, n_estimators=300,\n",
       "             n_iter_no_change=None, presort='auto', random_state=126,\n",
       "             subsample=1, tol=0.0001, validation_fraction=0.1,\n",
       "             verbose=False, warm_start=False)"
      ]
     },
     "execution_count": 32,
     "metadata": {},
     "output_type": "execute_result"
    }
   ],
   "source": [
    "#Model Building\n",
    "from sklearn.ensemble import GradientBoostingRegressor\n",
    "\n",
    "gbr=GradientBoostingRegressor( loss = 'huber',learning_rate=0.1,n_estimators=300, max_depth=4 , subsample=1,  verbose=False,random_state=126)  \n",
    "gbr.fit(X, y)\n"
   ]
  },
  {
   "cell_type": "code",
   "execution_count": 33,
   "metadata": {},
   "outputs": [],
   "source": [
    "#Prediction for test data \n",
    "y_pred_gbr = gbr.predict(test)\n",
    "y1=y_pred_gbr.astype(int) \n",
    "y1=y1.astype(int).astype(str) \n",
    "for i in range(len(y1)):\n",
    "    y1[i] = y1[i]+\" minutes\""
   ]
  },
  {
   "cell_type": "code",
   "execution_count": 34,
   "metadata": {},
   "outputs": [
    {
     "name": "stdout",
     "output_type": "stream",
     "text": [
      "<bound method NDFrame.head of                0\n",
      "0     35 minutes\n",
      "1     30 minutes\n",
      "2     34 minutes\n",
      "3     33 minutes\n",
      "4     38 minutes\n",
      "5     32 minutes\n",
      "6     39 minutes\n",
      "7     31 minutes\n",
      "8     29 minutes\n",
      "9     31 minutes\n",
      "10    40 minutes\n",
      "11    29 minutes\n",
      "12    31 minutes\n",
      "13    32 minutes\n",
      "14    37 minutes\n",
      "15    31 minutes\n",
      "16    40 minutes\n",
      "17    30 minutes\n",
      "18    31 minutes\n",
      "19    44 minutes\n",
      "20    30 minutes\n",
      "21    40 minutes\n",
      "22    48 minutes\n",
      "23    34 minutes\n",
      "24    30 minutes\n",
      "25    48 minutes\n",
      "26    30 minutes\n",
      "27    39 minutes\n",
      "28    30 minutes\n",
      "29    29 minutes\n",
      "30    32 minutes\n",
      "31    32 minutes\n",
      "32    48 minutes\n",
      "33    36 minutes\n",
      "34    34 minutes\n",
      "35    44 minutes\n",
      "36    33 minutes\n",
      "37    39 minutes\n",
      "38    90 minutes\n",
      "39    45 minutes\n",
      "...          ...\n",
      "2734  42 minutes\n",
      "2735  33 minutes\n",
      "2736  38 minutes\n",
      "2737  31 minutes\n",
      "2738  92 minutes\n",
      "2739  32 minutes\n",
      "2740  32 minutes\n",
      "2741  31 minutes\n",
      "2742  50 minutes\n",
      "2743  35 minutes\n",
      "2744  31 minutes\n",
      "2745  40 minutes\n",
      "2746  45 minutes\n",
      "2747  31 minutes\n",
      "2748  30 minutes\n",
      "2749  39 minutes\n",
      "2750  65 minutes\n",
      "2751  47 minutes\n",
      "2752  31 minutes\n",
      "2753  31 minutes\n",
      "2754  35 minutes\n",
      "2755  31 minutes\n",
      "2756  33 minutes\n",
      "2757  29 minutes\n",
      "2758  67 minutes\n",
      "2759  30 minutes\n",
      "2760  31 minutes\n",
      "2761  30 minutes\n",
      "2762  32 minutes\n",
      "2763  46 minutes\n",
      "2764  31 minutes\n",
      "2765  42 minutes\n",
      "2766  31 minutes\n",
      "2767  34 minutes\n",
      "2768  33 minutes\n",
      "2769  30 minutes\n",
      "2770  30 minutes\n",
      "2771  32 minutes\n",
      "2772  45 minutes\n",
      "2773  37 minutes\n",
      "\n",
      "[2774 rows x 1 columns]>\n"
     ]
    }
   ],
   "source": [
    "#Sending output to Excel file\n",
    "df = pd.DataFrame (y1)\n",
    "print(df.head)\n",
    "df.to_excel(\"Gengineer2.xlsx\", index = False)"
   ]
  }
 ],
 "metadata": {
  "kernelspec": {
   "display_name": "Python 3",
   "language": "python",
   "name": "python3"
  },
  "language_info": {
   "codemirror_mode": {
    "name": "ipython",
    "version": 3
   },
   "file_extension": ".py",
   "mimetype": "text/x-python",
   "name": "python",
   "nbconvert_exporter": "python",
   "pygments_lexer": "ipython3",
   "version": "3.7.1"
  }
 },
 "nbformat": 4,
 "nbformat_minor": 2
}
